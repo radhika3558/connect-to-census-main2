{
 "cells": [
  {
   "cell_type": "markdown",
   "metadata": {},
   "source": [
    "# Notebook Title"
   ]
  },
  {
   "cell_type": "markdown",
   "metadata": {},
   "source": [
    "## Setup Python and R environment\n",
    "you can ignore this section"
   ]
  },
  {
   "cell_type": "code",
   "execution_count": 17,
   "metadata": {},
   "outputs": [
    {
     "name": "stdout",
     "output_type": "stream",
     "text": [
      "The rpy2.ipython extension is already loaded. To reload it, use:\n",
      "  %reload_ext rpy2.ipython\n",
      "The autoreload extension is already loaded. To reload it, use:\n",
      "  %reload_ext autoreload\n"
     ]
    }
   ],
   "source": [
    "%load_ext rpy2.ipython\n",
    "%load_ext autoreload\n",
    "%autoreload 2\n",
    "\n",
    "%matplotlib inline  \n",
    "from matplotlib import rcParams\n",
    "rcParams['figure.figsize'] = (16, 100)\n",
    "\n",
    "import warnings\n",
    "from rpy2.rinterface import RRuntimeWarning\n",
    "warnings.filterwarnings(\"ignore\") # Ignore all warnings\n",
    "# warnings.filterwarnings(\"ignore\", category=RRuntimeWarning) # Show some warnings\n",
    "\n",
    "import pandas as pd\n",
    "import numpy as np\n",
    "import matplotlib.pyplot as plt\n",
    "from IPython.display import display, HTML"
   ]
  },
  {
   "cell_type": "code",
   "execution_count": 18,
   "metadata": {},
   "outputs": [
    {
     "data": {
      "application/javascript": "// Disable auto-scrolling\nIPython.OutputArea.prototype._should_scroll = function(lines) {\n    return false;\n}\n",
      "text/plain": [
       "<IPython.core.display.Javascript object>"
      ]
     },
     "metadata": {},
     "output_type": "display_data"
    }
   ],
   "source": [
    "%%javascript\n",
    "// Disable auto-scrolling\n",
    "IPython.OutputArea.prototype._should_scroll = function(lines) {\n",
    "    return false;\n",
    "}"
   ]
  },
  {
   "cell_type": "code",
   "execution_count": 19,
   "metadata": {},
   "outputs": [],
   "source": [
    "%%R\n",
    "\n",
    "# My commonly used R imports\n",
    "\n",
    "require('tidyverse')"
   ]
  },
  {
   "cell_type": "markdown",
   "metadata": {},
   "source": [
    "## Load & Clean Data\n",
    "\n",
    "👉 Load the data along with the census connectors below (the output of the `connect-to-census.ipynb` notebook) and do any cleanup you'd like to do."
   ]
  },
  {
   "cell_type": "code",
   "execution_count": 20,
   "metadata": {},
   "outputs": [],
   "source": [
    "geocode_df=pd.read_csv(\"geocoded_schools.csv\")"
   ]
  },
  {
   "cell_type": "code",
   "execution_count": null,
   "metadata": {},
   "outputs": [],
   "source": []
  },
  {
   "cell_type": "markdown",
   "metadata": {},
   "source": [
    "## 👉 Grab Census Data"
   ]
  },
  {
   "cell_type": "markdown",
   "metadata": {},
   "source": [
    "1. loading the Census API key"
   ]
  },
  {
   "cell_type": "code",
   "execution_count": 21,
   "metadata": {},
   "outputs": [
    {
     "data": {
      "text/plain": [
       "True"
      ]
     },
     "execution_count": 21,
     "metadata": {},
     "output_type": "execute_result"
    }
   ],
   "source": [
    "import dotenv\n",
    "\n",
    "# Load the environment variables\n",
    "# (loads CENSUS_API_KEY from .env)\n",
    "dotenv.load_dotenv()\n"
   ]
  },
  {
   "cell_type": "code",
   "execution_count": 22,
   "metadata": {},
   "outputs": [
    {
     "data": {
      "text/plain": [
       "To install your API key for use in future sessions, run this function with `install = TRUE`.\n"
      ]
     },
     "metadata": {},
     "output_type": "display_data"
    }
   ],
   "source": [
    "%%R \n",
    "\n",
    "require('tidycensus')\n",
    "\n",
    "# because it an environment variable, we don't have to \n",
    "# explicitly pass this string to R, it is readable here\n",
    "# in this R cell.\n",
    "census_api_key(Sys.getenv(\"CENSUS_API_KEY\"))"
   ]
  },
  {
   "cell_type": "markdown",
   "metadata": {},
   "source": [
    "2. Decide which Census variables you want\n",
    "\n",
    "    Use <https://censusreporter.org/> to figure out which tables you want. (if censusreporter is down, check out the code in the cell below)\n",
    "\n",
    "    -   Scroll to the bottom of the page to see the tables.\n",
    "    -   If you already know the table ID, stick that in the \"Explore\" section to learn more about that table.\n",
    "\n",
    "    By default this code loads (B01003_001) which we found in censusreporter here: https://censusreporter.org/tables/B01003/\n",
    "\n",
    "    - find some other variables that you're also interested in\n",
    "    - don't forget to pick a geography like \"tract\", \"county\" or \"block group\". here is the list of [all geographies](https://walker-data.com/tidycensus/articles/basic-usage.html#geography-in-tidycensus\n",
    "    ).\n"
   ]
  },
  {
   "cell_type": "code",
   "execution_count": 23,
   "metadata": {},
   "outputs": [
    {
     "name": "stdout",
     "output_type": "stream",
     "text": [
      "# A tibble: 46 × 3\n",
      "   name         label                                                    concept\n",
      "   <chr>        <chr>                                                    <chr>  \n",
      " 1 B06011PR_001 Estimate!!Median income in the past 12 months --!!Total: Median…\n",
      " 2 B06011PR_002 Estimate!!Median income in the past 12 months --!!Total… Median…\n",
      " 3 B06011PR_003 Estimate!!Median income in the past 12 months --!!Total… Median…\n",
      " 4 B06011PR_004 Estimate!!Median income in the past 12 months --!!Total… Median…\n",
      " 5 B06011PR_005 Estimate!!Median income in the past 12 months --!!Total… Median…\n",
      " 6 B06011_001   Estimate!!Median income in the past 12 months --!!Total: Median…\n",
      " 7 B06011_002   Estimate!!Median income in the past 12 months --!!Total… Median…\n",
      " 8 B06011_003   Estimate!!Median income in the past 12 months --!!Total… Median…\n",
      " 9 B06011_004   Estimate!!Median income in the past 12 months --!!Total… Median…\n",
      "10 B06011_005   Estimate!!Median income in the past 12 months --!!Total… Median…\n",
      "11 B07011PR_001 Estimate!!Median income in the past 12 months --!!Total: Median…\n",
      "12 B07011PR_002 Estimate!!Median income in the past 12 months --!!Total… Median…\n",
      "13 B07011PR_003 Estimate!!Median income in the past 12 months --!!Total… Median…\n",
      "14 B07011PR_004 Estimate!!Median income in the past 12 months --!!Total… Median…\n",
      "15 B07011PR_005 Estimate!!Median income in the past 12 months --!!Total… Median…\n",
      "16 B07011PR_006 Estimate!!Median income in the past 12 months --!!Total… Median…\n",
      "17 B07011_001   Estimate!!Median income in the past 12 months --!!Total: Median…\n",
      "18 B07011_002   Estimate!!Median income in the past 12 months --!!Total… Median…\n",
      "19 B07011_003   Estimate!!Median income in the past 12 months --!!Total… Median…\n",
      "20 B07011_004   Estimate!!Median income in the past 12 months --!!Total… Median…\n",
      "# ℹ 26 more rows\n",
      "# ℹ Use `print(n = ...)` to see more rows\n"
     ]
    }
   ],
   "source": [
    "%%R \n",
    "\n",
    "# Finding the Census Varaibles for the ACS 5 year survey\n",
    "# Generall you'd do this in CensusReporter, but since it's down sometimes, here it is using tidycensus's load_variables function\n",
    "\n",
    "# get every single variable in the ACS5 \n",
    "# RR: Changed to acs1, changed year\n",
    "all_census_vars <- load_variables(2022, \"acs1\", cache = TRUE) \n",
    "\n",
    "filtered_census_vars <- all_census_vars %>% \n",
    "    filter(grepl(\"median income\", label, ignore.case = TRUE))   # filter to those containing \"median income\"\n",
    "    \n",
    "# write to CSV so we can view it in python\n",
    "filtered_census_vars %>% \n",
    "    write_csv(\"filtered_census_vars.csv\")\n",
    "\n",
    "# show the first few rows\n",
    "filtered_census_vars %>%\n",
    "    #select(-geography) %>% # remove the geography column\n",
    "    print(n = 20) # print the first 20 rows"
   ]
  },
  {
   "cell_type": "code",
   "execution_count": 48,
   "metadata": {},
   "outputs": [
    {
     "data": {
      "text/plain": [
       "Getting data from the 2018-2022 5-year ACS\n",
       "Using FIPS code '36' for state 'NY'\n",
       "Using FIPS code '061' for 'New York County'\n",
       "Using FIPS code '047' for 'Kings County'\n",
       "Using FIPS code '081' for 'Queens County'\n",
       "Using FIPS code '005' for 'Bronx County'\n",
       "Using FIPS code '085' for 'Richmond County'\n"
      ]
     },
     "metadata": {},
     "output_type": "display_data"
    }
   ],
   "source": [
    "%%R -o nyc_census_data\n",
    "# the variable B01003_001E was selectd from the census table \n",
    "# for population, which we found in censusreporter here:\n",
    "# https://censusreporter.org/tables/B01003/\n",
    "\n",
    "# in the table below, pick the geography, the variables, and the survey you want to pull from\n",
    "# see the possible values here https://walker-data.com/tidycensus/articles/basic-usage.html\n",
    "\n",
    "# Get variable from ACS\n",
    "nyc_census_data <- get_acs(geography = \"tract\", \n",
    "                      state='NY',\n",
    "                      county = c(\"New York\", \"Kings\", \"Queens\", \"Bronx\", \"Richmond\"),\n",
    "                      variables = c(\n",
    "                        population=\"B01003_001\",\n",
    "                        med_inc=\"B19013_001\",\n",
    "                        school_kids=\"B14001_002\",\n",
    "                        kids=\"B09001_001\",\n",
    "                        white_race=\"B02001_002\",\n",
    "                        black_race=\"B02001_003\",\n",
    "                        asian_race=\"B02001_005\",\n",
    "                        male_public_school=\"B14003_003\",\n",
    "                        male_private_school=\"B14003_012\",\n",
    "                        female_public_school=\"B14003_031\",\n",
    "                        female_private_school=\"B14003_040\"\n",
    "                      ), \n",
    "                      year = 2022,\n",
    "                      survey=\"acs5\",\n",
    "                      geometry = F)\n",
    "\n",
    "nyc_census_data\n",
    "\n",
    "nyc_census_data %>% \n",
    "    write_csv(\"nyc_census_data.csv\")\n"
   ]
  },
  {
   "cell_type": "markdown",
   "metadata": {},
   "source": [
    "## 👉 Merge it with your data\n",
    "\n",
    "hint...`tidycensus` provides you data in long format you may need to pivot the census data from long to wide format before merging it with your data"
   ]
  },
  {
   "cell_type": "code",
   "execution_count": 60,
   "metadata": {},
   "outputs": [],
   "source": [
    "%%R -i nyc_census_data\n",
    "#drop moe column   \n",
    "nyc_census_data <- nyc_census_data %>%\n",
    "  select(-moe)\n",
    "\n",
    "#pivot the data to wide format  (one row per tract)\n",
    "nyc_census_data_wide <- nyc_census_data %>%\n",
    "  pivot_wider(names_from = \"variable\", values_from = \"estimate\")\n",
    "nyc_census_data_wide\n",
    "#output the data to a csv file\n",
    "nyc_census_data_wide %>%\n",
    "  write_csv(\"nyc_census_data_wide.csv\")\n",
    "\n",
    "geo_code <- read.csv(\"geocoded_schools.csv\")\n",
    "\n",
    "# Merge the dataframes\n",
    "merged_data <- merge(nyc_census_data_wide, geo_code, by = \"GEOID\", all.x = TRUE)\n",
    "merged_data %>% \n",
    "    write_csv(\"merged_data.csv\")"
   ]
  },
  {
   "cell_type": "code",
   "execution_count": 61,
   "metadata": {},
   "outputs": [
    {
     "data": {
      "text/plain": [
       "GEOID                      int64\n",
       "NAME                      object\n",
       "population                 int64\n",
       "white_race                 int64\n",
       "black_race                 int64\n",
       "asian_race                 int64\n",
       "kids                       int64\n",
       "school_kids                int64\n",
       "male_public_school         int64\n",
       "male_private_school        int64\n",
       "female_public_school       int64\n",
       "female_private_school      int64\n",
       "med_inc                  float64\n",
       "Borough                   object\n",
       "Community.Board          float64\n",
       "School.Type               object\n",
       "School.Name...ID          object\n",
       "Address                   object\n",
       "Postcode                 float64\n",
       "Latitude                 float64\n",
       "Longitude                float64\n",
       "Council.District         float64\n",
       "Census.Tract             float64\n",
       "BIN                      float64\n",
       "BBL                      float64\n",
       "NTA                       object\n",
       "STATE                    float64\n",
       "COUNTY                   float64\n",
       "TRACT                    float64\n",
       "BLOCK                    float64\n",
       "dtype: object"
      ]
     },
     "execution_count": 61,
     "metadata": {},
     "output_type": "execute_result"
    }
   ],
   "source": [
    "df=pd.read_csv(\"merged_data.csv\")\n",
    "df.dtypes"
   ]
  },
  {
   "cell_type": "code",
   "execution_count": null,
   "metadata": {},
   "outputs": [],
   "source": []
  }
 ],
 "metadata": {
  "kernelspec": {
   "display_name": "Python 3 (ipykernel)",
   "language": "python",
   "name": "python3"
  },
  "language_info": {
   "codemirror_mode": {
    "name": "ipython",
    "version": 3
   },
   "file_extension": ".py",
   "mimetype": "text/x-python",
   "name": "python",
   "nbconvert_exporter": "python",
   "pygments_lexer": "ipython3",
   "version": "3.11.6"
  }
 },
 "nbformat": 4,
 "nbformat_minor": 4
}
